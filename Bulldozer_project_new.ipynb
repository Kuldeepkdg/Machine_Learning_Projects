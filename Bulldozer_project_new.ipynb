{
 "cells": [
  {
   "cell_type": "markdown",
   "id": "91e4a423",
   "metadata": {},
   "source": [
    "# `Problem Definition`\n",
    "\n",
    "#### In this problem we have to predict the price of bulldozers using out machine learning algorithm."
   ]
  },
  {
   "cell_type": "markdown",
   "id": "bd06e666",
   "metadata": {},
   "source": [
    "# `Data`"
   ]
  },
  {
   "cell_type": "markdown",
   "id": "8e860535",
   "metadata": {},
   "source": [
    "#### The data is downloaded from the Kaggle Bluebook for Bulldozers competition: https://www.kaggle.com/c/bluebook-for-bulldozers/data\n",
    "\n",
    "#### There are 3 main datasets:\n",
    "\n",
    "* Train.csv is the training set, which contains data through the end of 2011.\n",
    "* Valid.csv is the validation set, which contains data from January 1, 2012 - April 30, 2012 You make predictions on this set throughout the majority of the competition. Your score on this set is used to create the public leaderboard.\n",
    "* Test.csv is the test set, which won't be released until the last week of the competition. It contains data from May 1, 2012 - November 2012. Your score on the test set determines your final rank for the competition."
   ]
  },
  {
   "cell_type": "markdown",
   "id": "7b986ede",
   "metadata": {},
   "source": [
    "# `Evaluation`"
   ]
  },
  {
   "cell_type": "markdown",
   "id": "07344d82",
   "metadata": {},
   "source": [
    "#### Kaggle provides a data dictionary detailing all of the features of the dataset. You can view this data dictionary on Google Sheets: \n",
    "#### https://docs.google.com/spreadsheets/d/18ly-bLR8sbDJLITkWG7ozKm8l3RyieQ2Fpgix-beSYI/edit?usp=sharing"
   ]
  },
  {
   "cell_type": "code",
   "execution_count": 1,
   "id": "2d084586",
   "metadata": {},
   "outputs": [],
   "source": [
    "import pandas as pd\n",
    "import numpy as np\n",
    "import matplotlib.pyplot as plt\n",
    "import sklearn\n",
    "import seaborn as sns"
   ]
  },
  {
   "cell_type": "code",
   "execution_count": 2,
   "id": "6d7db8d6",
   "metadata": {},
   "outputs": [],
   "source": [
    "df=pd.read_csv(\"bluebook-for-bulldozers/TrainAndValid.csv\",low_memory=False,parse_dates=['saledate'])"
   ]
  },
  {
   "cell_type": "code",
   "execution_count": 3,
   "id": "3a58aa1b",
   "metadata": {},
   "outputs": [
    {
     "data": {
      "text/html": [
       "<div>\n",
       "<style scoped>\n",
       "    .dataframe tbody tr th:only-of-type {\n",
       "        vertical-align: middle;\n",
       "    }\n",
       "\n",
       "    .dataframe tbody tr th {\n",
       "        vertical-align: top;\n",
       "    }\n",
       "\n",
       "    .dataframe thead th {\n",
       "        text-align: right;\n",
       "    }\n",
       "</style>\n",
       "<table border=\"1\" class=\"dataframe\">\n",
       "  <thead>\n",
       "    <tr style=\"text-align: right;\">\n",
       "      <th></th>\n",
       "      <th>SalesID</th>\n",
       "      <th>SalePrice</th>\n",
       "      <th>MachineID</th>\n",
       "      <th>ModelID</th>\n",
       "      <th>datasource</th>\n",
       "      <th>auctioneerID</th>\n",
       "      <th>YearMade</th>\n",
       "      <th>MachineHoursCurrentMeter</th>\n",
       "      <th>UsageBand</th>\n",
       "      <th>saledate</th>\n",
       "      <th>...</th>\n",
       "      <th>Undercarriage_Pad_Width</th>\n",
       "      <th>Stick_Length</th>\n",
       "      <th>Thumb</th>\n",
       "      <th>Pattern_Changer</th>\n",
       "      <th>Grouser_Type</th>\n",
       "      <th>Backhoe_Mounting</th>\n",
       "      <th>Blade_Type</th>\n",
       "      <th>Travel_Controls</th>\n",
       "      <th>Differential_Type</th>\n",
       "      <th>Steering_Controls</th>\n",
       "    </tr>\n",
       "  </thead>\n",
       "  <tbody>\n",
       "    <tr>\n",
       "      <th>0</th>\n",
       "      <td>1139246</td>\n",
       "      <td>66000.0</td>\n",
       "      <td>999089</td>\n",
       "      <td>3157</td>\n",
       "      <td>121</td>\n",
       "      <td>3.0</td>\n",
       "      <td>2004</td>\n",
       "      <td>68.0</td>\n",
       "      <td>Low</td>\n",
       "      <td>2006-11-16</td>\n",
       "      <td>...</td>\n",
       "      <td>NaN</td>\n",
       "      <td>NaN</td>\n",
       "      <td>NaN</td>\n",
       "      <td>NaN</td>\n",
       "      <td>NaN</td>\n",
       "      <td>NaN</td>\n",
       "      <td>NaN</td>\n",
       "      <td>NaN</td>\n",
       "      <td>Standard</td>\n",
       "      <td>Conventional</td>\n",
       "    </tr>\n",
       "    <tr>\n",
       "      <th>1</th>\n",
       "      <td>1139248</td>\n",
       "      <td>57000.0</td>\n",
       "      <td>117657</td>\n",
       "      <td>77</td>\n",
       "      <td>121</td>\n",
       "      <td>3.0</td>\n",
       "      <td>1996</td>\n",
       "      <td>4640.0</td>\n",
       "      <td>Low</td>\n",
       "      <td>2004-03-26</td>\n",
       "      <td>...</td>\n",
       "      <td>NaN</td>\n",
       "      <td>NaN</td>\n",
       "      <td>NaN</td>\n",
       "      <td>NaN</td>\n",
       "      <td>NaN</td>\n",
       "      <td>NaN</td>\n",
       "      <td>NaN</td>\n",
       "      <td>NaN</td>\n",
       "      <td>Standard</td>\n",
       "      <td>Conventional</td>\n",
       "    </tr>\n",
       "    <tr>\n",
       "      <th>2</th>\n",
       "      <td>1139249</td>\n",
       "      <td>10000.0</td>\n",
       "      <td>434808</td>\n",
       "      <td>7009</td>\n",
       "      <td>121</td>\n",
       "      <td>3.0</td>\n",
       "      <td>2001</td>\n",
       "      <td>2838.0</td>\n",
       "      <td>High</td>\n",
       "      <td>2004-02-26</td>\n",
       "      <td>...</td>\n",
       "      <td>NaN</td>\n",
       "      <td>NaN</td>\n",
       "      <td>NaN</td>\n",
       "      <td>NaN</td>\n",
       "      <td>NaN</td>\n",
       "      <td>NaN</td>\n",
       "      <td>NaN</td>\n",
       "      <td>NaN</td>\n",
       "      <td>NaN</td>\n",
       "      <td>NaN</td>\n",
       "    </tr>\n",
       "    <tr>\n",
       "      <th>3</th>\n",
       "      <td>1139251</td>\n",
       "      <td>38500.0</td>\n",
       "      <td>1026470</td>\n",
       "      <td>332</td>\n",
       "      <td>121</td>\n",
       "      <td>3.0</td>\n",
       "      <td>2001</td>\n",
       "      <td>3486.0</td>\n",
       "      <td>High</td>\n",
       "      <td>2011-05-19</td>\n",
       "      <td>...</td>\n",
       "      <td>NaN</td>\n",
       "      <td>NaN</td>\n",
       "      <td>NaN</td>\n",
       "      <td>NaN</td>\n",
       "      <td>NaN</td>\n",
       "      <td>NaN</td>\n",
       "      <td>NaN</td>\n",
       "      <td>NaN</td>\n",
       "      <td>NaN</td>\n",
       "      <td>NaN</td>\n",
       "    </tr>\n",
       "    <tr>\n",
       "      <th>4</th>\n",
       "      <td>1139253</td>\n",
       "      <td>11000.0</td>\n",
       "      <td>1057373</td>\n",
       "      <td>17311</td>\n",
       "      <td>121</td>\n",
       "      <td>3.0</td>\n",
       "      <td>2007</td>\n",
       "      <td>722.0</td>\n",
       "      <td>Medium</td>\n",
       "      <td>2009-07-23</td>\n",
       "      <td>...</td>\n",
       "      <td>NaN</td>\n",
       "      <td>NaN</td>\n",
       "      <td>NaN</td>\n",
       "      <td>NaN</td>\n",
       "      <td>NaN</td>\n",
       "      <td>NaN</td>\n",
       "      <td>NaN</td>\n",
       "      <td>NaN</td>\n",
       "      <td>NaN</td>\n",
       "      <td>NaN</td>\n",
       "    </tr>\n",
       "  </tbody>\n",
       "</table>\n",
       "<p>5 rows × 53 columns</p>\n",
       "</div>"
      ],
      "text/plain": [
       "   SalesID  SalePrice  MachineID  ModelID  datasource  auctioneerID  YearMade  \\\n",
       "0  1139246    66000.0     999089     3157         121           3.0      2004   \n",
       "1  1139248    57000.0     117657       77         121           3.0      1996   \n",
       "2  1139249    10000.0     434808     7009         121           3.0      2001   \n",
       "3  1139251    38500.0    1026470      332         121           3.0      2001   \n",
       "4  1139253    11000.0    1057373    17311         121           3.0      2007   \n",
       "\n",
       "   MachineHoursCurrentMeter UsageBand   saledate  ... Undercarriage_Pad_Width  \\\n",
       "0                      68.0       Low 2006-11-16  ...                     NaN   \n",
       "1                    4640.0       Low 2004-03-26  ...                     NaN   \n",
       "2                    2838.0      High 2004-02-26  ...                     NaN   \n",
       "3                    3486.0      High 2011-05-19  ...                     NaN   \n",
       "4                     722.0    Medium 2009-07-23  ...                     NaN   \n",
       "\n",
       "  Stick_Length Thumb Pattern_Changer Grouser_Type Backhoe_Mounting Blade_Type  \\\n",
       "0          NaN   NaN             NaN          NaN              NaN        NaN   \n",
       "1          NaN   NaN             NaN          NaN              NaN        NaN   \n",
       "2          NaN   NaN             NaN          NaN              NaN        NaN   \n",
       "3          NaN   NaN             NaN          NaN              NaN        NaN   \n",
       "4          NaN   NaN             NaN          NaN              NaN        NaN   \n",
       "\n",
       "  Travel_Controls Differential_Type Steering_Controls  \n",
       "0             NaN          Standard      Conventional  \n",
       "1             NaN          Standard      Conventional  \n",
       "2             NaN               NaN               NaN  \n",
       "3             NaN               NaN               NaN  \n",
       "4             NaN               NaN               NaN  \n",
       "\n",
       "[5 rows x 53 columns]"
      ]
     },
     "execution_count": 3,
     "metadata": {},
     "output_type": "execute_result"
    }
   ],
   "source": [
    "df.head()"
   ]
  },
  {
   "cell_type": "code",
   "execution_count": 4,
   "id": "a46f1f11",
   "metadata": {},
   "outputs": [
    {
     "data": {
      "text/plain": [
       "<matplotlib.collections.PathCollection at 0x2522b04fc40>"
      ]
     },
     "execution_count": 4,
     "metadata": {},
     "output_type": "execute_result"
    },
    {
     "data": {
      "image/png": "[encoded data removed]",
      "text/plain": [
       "<Figure size 432x288 with 1 Axes>"
      ]
     },
     "metadata": {
      "needs_background": "light"
     },
     "output_type": "display_data"
    }
   ],
   "source": [
    "# lets print the sales wrt the saledate\n",
    "\n",
    "plt.scatter(df[\"saledate\"][:1000],df[\"SalePrice\"][:1000])"
   ]
  },
  {
   "cell_type": "code",
   "execution_count": 5,
   "id": "48aa7ec2",
   "metadata": {},
   "outputs": [
    {
     "data": {
      "image/png": "[encoded data removed]",
      "text/plain": [
       "<Figure size 432x288 with 1 Axes>"
      ]
     },
     "metadata": {
      "needs_background": "light"
     },
     "output_type": "display_data"
    }
   ],
   "source": [
    "# lets visualize our price column\n",
    "\n",
    "plt.hist(df[\"SalePrice\"]);"
   ]
  },
  {
   "cell_type": "code",
   "execution_count": 6,
   "id": "fb6c1014",
   "metadata": {},
   "outputs": [],
   "source": [
    "# lets add instance of saledate column and remove saledate from the table\n",
    "\n",
    "df[\"saleyear\"]=df.saledate.dt.year\n",
    "df[\"salemonth\"]=df.saledate.dt.month\n",
    "df[\"saleday\"]=df.saledate.dt.day\n",
    "df[\"saledayofweek\"]=df.saledate.dt.day_of_week\n",
    "df[\"saledayofyear\"]=df.saledate.dt.day_of_year"
   ]
  },
  {
   "cell_type": "code",
   "execution_count": 7,
   "id": "8046a47e",
   "metadata": {},
   "outputs": [],
   "source": [
    "df.drop(\"saledate\",axis=1,inplace=True)"
   ]
  },
  {
   "cell_type": "code",
   "execution_count": 8,
   "id": "ba676597",
   "metadata": {},
   "outputs": [
    {
     "data": {
      "text/plain": [
       "SalesID                          0\n",
       "SalePrice                        0\n",
       "MachineID                        0\n",
       "ModelID                          0\n",
       "datasource                       0\n",
       "auctioneerID                 20136\n",
       "YearMade                         0\n",
       "MachineHoursCurrentMeter    265194\n",
       "UsageBand                   339028\n",
       "fiModelDesc                      0\n",
       "fiBaseModel                      0\n",
       "fiSecondaryDesc             140727\n",
       "fiModelSeries               354031\n",
       "fiModelDescriptor           337882\n",
       "ProductSize                 216605\n",
       "fiProductClassDesc               0\n",
       "state                            0\n",
       "ProductGroup                     0\n",
       "ProductGroupDesc                 0\n",
       "Drive_System                305611\n",
       "Enclosure                      334\n",
       "Forks                       214983\n",
       "Pad_Type                    331602\n",
       "Ride_Control                259970\n",
       "Stick                       331602\n",
       "Transmission                224691\n",
       "Turbocharged                331602\n",
       "Blade_Extension             386715\n",
       "Blade_Width                 386715\n",
       "Enclosure_Type              386715\n",
       "Engine_Horsepower           386715\n",
       "Hydraulics                   82565\n",
       "Pushblock                   386715\n",
       "Ripper                      305753\n",
       "Scarifier                   386704\n",
       "Tip_Control                 386715\n",
       "Tire_Size                   315060\n",
       "Coupler                     192019\n",
       "Coupler_System              367724\n",
       "Grouser_Tracks              367823\n",
       "Hydraulics_Flow             367823\n",
       "Track_Type                  310505\n",
       "Undercarriage_Pad_Width     309782\n",
       "Stick_Length                310437\n",
       "Thumb                       310366\n",
       "Pattern_Changer             310437\n",
       "Grouser_Type                310505\n",
       "Backhoe_Mounting            331986\n",
       "Blade_Type                  330823\n",
       "Travel_Controls             330821\n",
       "Differential_Type           341134\n",
       "Steering_Controls           341176\n",
       "saleyear                         0\n",
       "salemonth                        0\n",
       "saleday                          0\n",
       "saledayofweek                    0\n",
       "saledayofyear                    0\n",
       "dtype: int64"
      ]
     },
     "execution_count": 8,
     "metadata": {},
     "output_type": "execute_result"
    }
   ],
   "source": [
    "# lets find how many missing values are there\n",
    "\n",
    "df.isna().sum()"
   ]
  },
  {
   "cell_type": "code",
   "execution_count": 9,
   "id": "696934bb",
   "metadata": {},
   "outputs": [],
   "source": [
    "# lets turn every str column into categorical ones\n",
    "\n",
    "for label,content in df.items():\n",
    "    if pd.api.types.is_string_dtype(content):\n",
    "        df[label]=content.astype(\"category\").cat.as_ordered()\n",
    "          "
   ]
  },
  {
   "cell_type": "code",
   "execution_count": 10,
   "id": "327454a0",
   "metadata": {},
   "outputs": [
    {
     "name": "stdout",
     "output_type": "stream",
     "text": [
      "<class 'pandas.core.frame.DataFrame'>\n",
      "RangeIndex: 412698 entries, 0 to 412697\n",
      "Data columns (total 57 columns):\n",
      " #   Column                    Non-Null Count   Dtype   \n",
      "---  ------                    --------------   -----   \n",
      " 0   SalesID                   412698 non-null  int64   \n",
      " 1   SalePrice                 412698 non-null  float64 \n",
      " 2   MachineID                 412698 non-null  int64   \n",
      " 3   ModelID                   412698 non-null  int64   \n",
      " 4   datasource                412698 non-null  int64   \n",
      " 5   auctioneerID              392562 non-null  float64 \n",
      " 6   YearMade                  412698 non-null  int64   \n",
      " 7   MachineHoursCurrentMeter  147504 non-null  float64 \n",
      " 8   UsageBand                 73670 non-null   category\n",
      " 9   fiModelDesc               412698 non-null  category\n",
      " 10  fiBaseModel               412698 non-null  category\n",
      " 11  fiSecondaryDesc           271971 non-null  category\n",
      " 12  fiModelSeries             58667 non-null   category\n",
      " 13  fiModelDescriptor         74816 non-null   category\n",
      " 14  ProductSize               196093 non-null  category\n",
      " 15  fiProductClassDesc        412698 non-null  category\n",
      " 16  state                     412698 non-null  category\n",
      " 17  ProductGroup              412698 non-null  category\n",
      " 18  ProductGroupDesc          412698 non-null  category\n",
      " 19  Drive_System              107087 non-null  category\n",
      " 20  Enclosure                 412364 non-null  category\n",
      " 21  Forks                     197715 non-null  category\n",
      " 22  Pad_Type                  81096 non-null   category\n",
      " 23  Ride_Control              152728 non-null  category\n",
      " 24  Stick                     81096 non-null   category\n",
      " 25  Transmission              188007 non-null  category\n",
      " 26  Turbocharged              81096 non-null   category\n",
      " 27  Blade_Extension           25983 non-null   category\n",
      " 28  Blade_Width               25983 non-null   category\n",
      " 29  Enclosure_Type            25983 non-null   category\n",
      " 30  Engine_Horsepower         25983 non-null   category\n",
      " 31  Hydraulics                330133 non-null  category\n",
      " 32  Pushblock                 25983 non-null   category\n",
      " 33  Ripper                    106945 non-null  category\n",
      " 34  Scarifier                 25994 non-null   category\n",
      " 35  Tip_Control               25983 non-null   category\n",
      " 36  Tire_Size                 97638 non-null   category\n",
      " 37  Coupler                   220679 non-null  category\n",
      " 38  Coupler_System            44974 non-null   category\n",
      " 39  Grouser_Tracks            44875 non-null   category\n",
      " 40  Hydraulics_Flow           44875 non-null   category\n",
      " 41  Track_Type                102193 non-null  category\n",
      " 42  Undercarriage_Pad_Width   102916 non-null  category\n",
      " 43  Stick_Length              102261 non-null  category\n",
      " 44  Thumb                     102332 non-null  category\n",
      " 45  Pattern_Changer           102261 non-null  category\n",
      " 46  Grouser_Type              102193 non-null  category\n",
      " 47  Backhoe_Mounting          80712 non-null   category\n",
      " 48  Blade_Type                81875 non-null   category\n",
      " 49  Travel_Controls           81877 non-null   category\n",
      " 50  Differential_Type         71564 non-null   category\n",
      " 51  Steering_Controls         71522 non-null   category\n",
      " 52  saleyear                  412698 non-null  int64   \n",
      " 53  salemonth                 412698 non-null  int64   \n",
      " 54  saleday                   412698 non-null  int64   \n",
      " 55  saledayofweek             412698 non-null  int64   \n",
      " 56  saledayofyear             412698 non-null  int64   \n",
      "dtypes: category(44), float64(3), int64(10)\n",
      "memory usage: 60.1 MB\n"
     ]
    }
   ],
   "source": [
    "df.info()"
   ]
  },
  {
   "cell_type": "code",
   "execution_count": 11,
   "id": "79d55cef",
   "metadata": {},
   "outputs": [
    {
     "data": {
      "text/plain": [
       "CategoricalDtype(categories=['High', 'Low', 'Medium'], ordered=True)"
      ]
     },
     "execution_count": 11,
     "metadata": {},
     "output_type": "execute_result"
    }
   ],
   "source": [
    "df[\"UsageBand\"].dtype"
   ]
  },
  {
   "cell_type": "markdown",
   "id": "4035b0c9",
   "metadata": {},
   "source": [
    "# lets fill our missing values now\n"
   ]
  },
  {
   "cell_type": "code",
   "execution_count": 12,
   "id": "69ecd515",
   "metadata": {},
   "outputs": [
    {
     "data": {
      "text/plain": [
       "SalesID                          0\n",
       "SalePrice                        0\n",
       "MachineID                        0\n",
       "ModelID                          0\n",
       "datasource                       0\n",
       "auctioneerID                 20136\n",
       "YearMade                         0\n",
       "MachineHoursCurrentMeter    265194\n",
       "UsageBand                   339028\n",
       "fiModelDesc                      0\n",
       "fiBaseModel                      0\n",
       "fiSecondaryDesc             140727\n",
       "fiModelSeries               354031\n",
       "fiModelDescriptor           337882\n",
       "ProductSize                 216605\n",
       "fiProductClassDesc               0\n",
       "state                            0\n",
       "ProductGroup                     0\n",
       "ProductGroupDesc                 0\n",
       "Drive_System                305611\n",
       "Enclosure                      334\n",
       "Forks                       214983\n",
       "Pad_Type                    331602\n",
       "Ride_Control                259970\n",
       "Stick                       331602\n",
       "Transmission                224691\n",
       "Turbocharged                331602\n",
       "Blade_Extension             386715\n",
       "Blade_Width                 386715\n",
       "Enclosure_Type              386715\n",
       "Engine_Horsepower           386715\n",
       "Hydraulics                   82565\n",
       "Pushblock                   386715\n",
       "Ripper                      305753\n",
       "Scarifier                   386704\n",
       "Tip_Control                 386715\n",
       "Tire_Size                   315060\n",
       "Coupler                     192019\n",
       "Coupler_System              367724\n",
       "Grouser_Tracks              367823\n",
       "Hydraulics_Flow             367823\n",
       "Track_Type                  310505\n",
       "Undercarriage_Pad_Width     309782\n",
       "Stick_Length                310437\n",
       "Thumb                       310366\n",
       "Pattern_Changer             310437\n",
       "Grouser_Type                310505\n",
       "Backhoe_Mounting            331986\n",
       "Blade_Type                  330823\n",
       "Travel_Controls             330821\n",
       "Differential_Type           341134\n",
       "Steering_Controls           341176\n",
       "saleyear                         0\n",
       "salemonth                        0\n",
       "saleday                          0\n",
       "saledayofweek                    0\n",
       "saledayofyear                    0\n",
       "dtype: int64"
      ]
     },
     "execution_count": 12,
     "metadata": {},
     "output_type": "execute_result"
    }
   ],
   "source": [
    "df.isna().sum()"
   ]
  },
  {
   "cell_type": "code",
   "execution_count": 13,
   "id": "5ad66c02",
   "metadata": {},
   "outputs": [],
   "source": [
    "# lets fill the numerical ones first\n",
    "\n",
    "for label,content in df.items():\n",
    "    if pd.api.types.is_numeric_dtype(content):\n",
    "        if pd.isnull(content).sum():\n",
    "#             lets make a refernce as missing first\n",
    "            df[label + \"is_missing\"]=pd.isnull(content)\n",
    "#             lets fill the row with median\n",
    "            df[label]=content.fillna(content.median())"
   ]
  },
  {
   "cell_type": "code",
   "execution_count": 14,
   "id": "791a06c5",
   "metadata": {},
   "outputs": [
    {
     "data": {
      "text/plain": [
       "SalesID                                    0\n",
       "SalePrice                                  0\n",
       "MachineID                                  0\n",
       "ModelID                                    0\n",
       "datasource                                 0\n",
       "auctioneerID                               0\n",
       "YearMade                                   0\n",
       "MachineHoursCurrentMeter                   0\n",
       "UsageBand                             339028\n",
       "fiModelDesc                                0\n",
       "fiBaseModel                                0\n",
       "fiSecondaryDesc                       140727\n",
       "fiModelSeries                         354031\n",
       "fiModelDescriptor                     337882\n",
       "ProductSize                           216605\n",
       "fiProductClassDesc                         0\n",
       "state                                      0\n",
       "ProductGroup                               0\n",
       "ProductGroupDesc                           0\n",
       "Drive_System                          305611\n",
       "Enclosure                                334\n",
       "Forks                                 214983\n",
       "Pad_Type                              331602\n",
       "Ride_Control                          259970\n",
       "Stick                                 331602\n",
       "Transmission                          224691\n",
       "Turbocharged                          331602\n",
       "Blade_Extension                       386715\n",
       "Blade_Width                           386715\n",
       "Enclosure_Type                        386715\n",
       "Engine_Horsepower                     386715\n",
       "Hydraulics                             82565\n",
       "Pushblock                             386715\n",
       "Ripper                                305753\n",
       "Scarifier                             386704\n",
       "Tip_Control                           386715\n",
       "Tire_Size                             315060\n",
       "Coupler                               192019\n",
       "Coupler_System                        367724\n",
       "Grouser_Tracks                        367823\n",
       "Hydraulics_Flow                       367823\n",
       "Track_Type                            310505\n",
       "Undercarriage_Pad_Width               309782\n",
       "Stick_Length                          310437\n",
       "Thumb                                 310366\n",
       "Pattern_Changer                       310437\n",
       "Grouser_Type                          310505\n",
       "Backhoe_Mounting                      331986\n",
       "Blade_Type                            330823\n",
       "Travel_Controls                       330821\n",
       "Differential_Type                     341134\n",
       "Steering_Controls                     341176\n",
       "saleyear                                   0\n",
       "salemonth                                  0\n",
       "saleday                                    0\n",
       "saledayofweek                              0\n",
       "saledayofyear                              0\n",
       "auctioneerIDis_missing                     0\n",
       "MachineHoursCurrentMeteris_missing         0\n",
       "dtype: int64"
      ]
     },
     "execution_count": 14,
     "metadata": {},
     "output_type": "execute_result"
    }
   ],
   "source": [
    "# lets check it\n",
    "df.isna().sum()"
   ]
  },
  {
   "cell_type": "code",
   "execution_count": 15,
   "id": "f7e4fd13",
   "metadata": {},
   "outputs": [],
   "source": [
    "# lets fill our categorical values and also convert them to numbers\n",
    "\n",
    "for label,content in df.items():\n",
    "    if not pd.api.types.is_numeric_dtype(content):\n",
    "#         lets make a refernce column\n",
    "        df[label + \"is_missing\"]=pd.isnull(content)\n",
    "#         lets fill the data\n",
    "        df[label]=pd.Categorical(content).codes+1"
   ]
  },
  {
   "cell_type": "code",
   "execution_count": 16,
   "id": "699fd8b8",
   "metadata": {},
   "outputs": [],
   "source": [
    "# lets save our processed data\n",
    "\n",
    "df.to_csv('bluebook-for-bulldozers/Train_and_valid_model_ready.csv')"
   ]
  },
  {
   "cell_type": "code",
   "execution_count": 17,
   "id": "e27afc46",
   "metadata": {},
   "outputs": [],
   "source": [
    "# lets make a copy of our df\n",
    "\n",
    "df_tmp=df.copy()"
   ]
  },
  {
   "cell_type": "markdown",
   "id": "3b8d012b",
   "metadata": {},
   "source": [
    "# lets train our model on df_tmp"
   ]
  },
  {
   "cell_type": "code",
   "execution_count": 18,
   "id": "49723538",
   "metadata": {},
   "outputs": [],
   "source": [
    "# lets split teh data\n",
    "df_train=df_tmp[df.saleyear!=2012]\n",
    "df_val=df_tmp[df.saleyear==2012]"
   ]
  },
  {
   "cell_type": "markdown",
   "id": "95e80114",
   "metadata": {},
   "source": [
    "# lets train our model"
   ]
  },
  {
   "cell_type": "code",
   "execution_count": 19,
   "id": "af231d70",
   "metadata": {},
   "outputs": [],
   "source": [
    "from sklearn.ensemble import RandomForestRegressor\n",
    "\n",
    "model=RandomForestRegressor(n_jobs=-1,random_state=42)"
   ]
  },
  {
   "cell_type": "code",
   "execution_count": 20,
   "id": "dff722b5",
   "metadata": {},
   "outputs": [
    {
     "name": "stdout",
     "output_type": "stream",
     "text": [
      "Wall time: 2min 17s\n"
     ]
    },
    {
     "data": {
      "text/plain": [
       "RandomForestRegressor(n_jobs=-1, random_state=42)"
      ]
     },
     "execution_count": 20,
     "metadata": {},
     "output_type": "execute_result"
    }
   ],
   "source": [
    "%%time\n",
    "\n",
    "model.fit(df_train.drop(\"SalePrice\",axis=1),df_train[\"SalePrice\"])"
   ]
  },
  {
   "cell_type": "code",
   "execution_count": 21,
   "id": "c9fdfb77",
   "metadata": {},
   "outputs": [
    {
     "data": {
      "text/plain": [
       "0.8724699827023497"
      ]
     },
     "execution_count": 21,
     "metadata": {},
     "output_type": "execute_result"
    }
   ],
   "source": [
    "model.score(df_val.drop(\"SalePrice\",axis=1),df_val[\"SalePrice\"])"
   ]
  },
  {
   "cell_type": "code",
   "execution_count": 22,
   "id": "77ee2c59",
   "metadata": {},
   "outputs": [],
   "source": [
    "# lets split the data and store them in variables\n",
    "\n",
    "x_train,y_train=df_train.drop(\"SalePrice\",axis=1),df_train[\"SalePrice\"]\n",
    "x_val,y_val=df_val.drop(\"SalePrice\",axis=1),df_val[\"SalePrice\"]"
   ]
  },
  {
   "cell_type": "code",
   "execution_count": 23,
   "id": "852d51de",
   "metadata": {},
   "outputs": [],
   "source": [
    "# lets generate y_predicted values also\n",
    "\n",
    "y_preds=model.predict(x_val)"
   ]
  },
  {
   "cell_type": "markdown",
   "id": "b642a225",
   "metadata": {},
   "source": [
    "# We want RMSLE according to our problem definition\n"
   ]
  },
  {
   "cell_type": "code",
   "execution_count": 24,
   "id": "fc6567e3",
   "metadata": {},
   "outputs": [],
   "source": [
    "# lets make a eval fn\n",
    "from sklearn.metrics import mean_absolute_error,mean_squared_log_error,r2_score\n",
    "\n",
    "def rmsle(y_test,y_preds):\n",
    "    \"\"\"\n",
    "    This returns the root mean squared log error score\n",
    "    \"\"\"\n",
    "    \n",
    "    return np.sqrt(mean_squared_log_error(y_val,y_preds))\n",
    "\n",
    "\n",
    "\n",
    "def score(model):\n",
    "    \n",
    "    \"\"\"\n",
    "    This return a dict of diff scores\n",
    "    \"\"\"\n",
    "    y_preds_t=model.predict(x_train)\n",
    "    y_preds_v=model.predict(x_val)\n",
    "    \n",
    "    score={\"Train_MAE\":mean_absolute_error(y_train,y_preds_t),\n",
    "           \"Val_MAE\":mean_absolute_error(y_val,y_preds_v),\n",
    "           \"Train_RMSLE\":np.sqrt(mean_squared_log_error(y_train,y_preds_t)),\n",
    "           \"Val_RMSLE\":np.sqrt(mean_squared_log_error(y_val,y_preds_v)),\n",
    "           \"Train_r2_score\":r2_score(y_train,y_preds_t),\n",
    "           \"Val_r2_score\":r2_score(y_val,y_preds_v)\n",
    "          }\n",
    "    \n",
    "    return score"
   ]
  },
  {
   "cell_type": "code",
   "execution_count": 25,
   "id": "3a7d71cb",
   "metadata": {},
   "outputs": [
    {
     "data": {
      "text/plain": [
       "0.2546446969689846"
      ]
     },
     "execution_count": 25,
     "metadata": {},
     "output_type": "execute_result"
    }
   ],
   "source": [
    "rmsle(y_val,y_preds)"
   ]
  },
  {
   "cell_type": "code",
   "execution_count": 26,
   "id": "bf33a129",
   "metadata": {},
   "outputs": [
    {
     "data": {
      "text/plain": [
       "{'Train_MAE': 1578.452360361484,\n",
       " 'Val_MAE': 6125.117301477577,\n",
       " 'Train_RMSLE': 0.0841335910166914,\n",
       " 'Val_RMSLE': 0.2546446969689846,\n",
       " 'Train_r2_score': 0.9875229075349308,\n",
       " 'Val_r2_score': 0.8724699827023497}"
      ]
     },
     "execution_count": 26,
     "metadata": {},
     "output_type": "execute_result"
    }
   ],
   "source": [
    "score(model)"
   ]
  },
  {
   "cell_type": "markdown",
   "id": "d859a595",
   "metadata": {},
   "source": [
    "# lets improve our model using hyperparameter tuning"
   ]
  },
  {
   "cell_type": "code",
   "execution_count": 27,
   "id": "141e2cd3",
   "metadata": {},
   "outputs": [],
   "source": [
    "# we will use RandomizedSearchCV\n",
    "\n",
    "from sklearn.model_selection import RandomizedSearchCV\n",
    "\n"
   ]
  },
  {
   "cell_type": "code",
   "execution_count": 28,
   "id": "d57ba1fd",
   "metadata": {},
   "outputs": [],
   "source": [
    "rf_grid={\"n_estimators\":np.arange(10,100,10),\n",
    "        \"max_depth\":[None,3,5,10],\n",
    "         \"max_features\":[0.5,1,'sqrt','auto'],\n",
    "         \"min_samples_split\":np.arange(2,20,2),\n",
    "         \"min_samples_leaf\":np.arange(1,20,2),\n",
    "         \"max_samples\":[10000]\n",
    "        }"
   ]
  },
  {
   "cell_type": "code",
   "execution_count": 68,
   "id": "59f6f552",
   "metadata": {},
   "outputs": [],
   "source": [
    "rf_model=RandomizedSearchCV(RandomForestRegressor(n_jobs=-1,random_state=42),param_distributions=rf_grid,\n",
    "                           n_iter=5,\n",
    "                           cv=5,\n",
    "                           verbose=True)"
   ]
  },
  {
   "cell_type": "code",
   "execution_count": 69,
   "id": "788572dd",
   "metadata": {},
   "outputs": [
    {
     "name": "stdout",
     "output_type": "stream",
     "text": [
      "Fitting 5 folds for each of 5 candidates, totalling 25 fits\n"
     ]
    },
    {
     "data": {
      "text/plain": [
       "RandomizedSearchCV(cv=5,\n",
       "                   estimator=RandomForestRegressor(n_jobs=-1, random_state=42),\n",
       "                   n_iter=5,\n",
       "                   param_distributions={'max_depth': [None, 3, 5, 10],\n",
       "                                        'max_features': [0.5, 1, 'sqrt',\n",
       "                                                         'auto'],\n",
       "                                        'max_samples': [10000],\n",
       "                                        'min_samples_leaf': array([ 1,  3,  5,  7,  9, 11, 13, 15, 17, 19]),\n",
       "                                        'min_samples_split': array([ 2,  4,  6,  8, 10, 12, 14, 16, 18]),\n",
       "                                        'n_estimators': array([10, 20, 30, 40, 50, 60, 70, 80, 90])},\n",
       "                   verbose=True)"
      ]
     },
     "execution_count": 69,
     "metadata": {},
     "output_type": "execute_result"
    }
   ],
   "source": [
    "rf_model.fit(x_train,y_train)"
   ]
  },
  {
   "cell_type": "code",
   "execution_count": 70,
   "id": "af9d2cba",
   "metadata": {},
   "outputs": [
    {
     "data": {
      "text/plain": [
       "{'n_estimators': 60,\n",
       " 'min_samples_split': 10,\n",
       " 'min_samples_leaf': 11,\n",
       " 'max_samples': 10000,\n",
       " 'max_features': 'auto',\n",
       " 'max_depth': 5}"
      ]
     },
     "execution_count": 70,
     "metadata": {},
     "output_type": "execute_result"
    }
   ],
   "source": [
    "rf_model.best_params_"
   ]
  },
  {
   "cell_type": "code",
   "execution_count": 71,
   "id": "ba5d4b78",
   "metadata": {},
   "outputs": [],
   "source": [
    "rf_y_preds=rf_model.predict(x_val)"
   ]
  },
  {
   "cell_type": "code",
   "execution_count": 82,
   "id": "be3b6e0b",
   "metadata": {},
   "outputs": [
    {
     "data": {
      "text/plain": [
       "{'Train_MAE': 9507.635703704753,\n",
       " 'Val_MAE': 10652.43008079834,\n",
       " 'Train_RMSLE': 0.4071595345702283,\n",
       " 'Val_RMSLE': 0.4210538013091904,\n",
       " 'Train_r2_score': 0.6374470170435436,\n",
       " 'Val_r2_score': 0.6566766772144003}"
      ]
     },
     "execution_count": 82,
     "metadata": {},
     "output_type": "execute_result"
    }
   ],
   "source": [
    "score(rf_model)"
   ]
  },
  {
   "cell_type": "code",
   "execution_count": 32,
   "id": "2aa628c3",
   "metadata": {},
   "outputs": [
    {
     "name": "stdout",
     "output_type": "stream",
     "text": [
      "Fitting 5 folds for each of 20 candidates, totalling 100 fits\n",
      "Wall time: 7min 14s\n"
     ]
    },
    {
     "data": {
      "text/plain": [
       "RandomizedSearchCV(cv=5,\n",
       "                   estimator=RandomForestRegressor(n_jobs=-1, random_state=42),\n",
       "                   n_iter=20,\n",
       "                   param_distributions={'max_depth': [None, 3, 5, 10],\n",
       "                                        'max_features': [0.5, 1, 'sqrt',\n",
       "                                                         'auto'],\n",
       "                                        'max_samples': [10000],\n",
       "                                        'min_samples_leaf': array([ 1,  3,  5,  7,  9, 11, 13, 15, 17, 19]),\n",
       "                                        'min_samples_split': array([ 2,  4,  6,  8, 10, 12, 14, 16, 18]),\n",
       "                                        'n_estimators': array([10, 20, 30, 40, 50, 60, 70, 80, 90])},\n",
       "                   verbose=True)"
      ]
     },
     "execution_count": 32,
     "metadata": {},
     "output_type": "execute_result"
    }
   ],
   "source": [
    "%%time\n",
    "# Still the score isn't enough good so lets tune it on more samples\n",
    "\n",
    "\n",
    "ideal_model=RandomizedSearchCV(RandomForestRegressor(n_jobs=-1,random_state=42),\n",
    "                               param_distributions=rf_grid,\n",
    "                               cv=5,\n",
    "                               n_iter=20,\n",
    "                               verbose=True)\n",
    "\n",
    "ideal_model.fit(x_train,y_train)\n"
   ]
  },
  {
   "cell_type": "code",
   "execution_count": 33,
   "id": "8d89747c",
   "metadata": {},
   "outputs": [
    {
     "data": {
      "text/plain": [
       "{'n_estimators': 10,\n",
       " 'min_samples_split': 6,\n",
       " 'min_samples_leaf': 7,\n",
       " 'max_samples': 10000,\n",
       " 'max_features': 'auto',\n",
       " 'max_depth': 10}"
      ]
     },
     "execution_count": 33,
     "metadata": {},
     "output_type": "execute_result"
    }
   ],
   "source": [
    "ideal_model.best_params_"
   ]
  },
  {
   "cell_type": "code",
   "execution_count": 37,
   "id": "d8617e85",
   "metadata": {},
   "outputs": [],
   "source": [
    "ideal_model_y_preds=ideal_model.predict(x_val)"
   ]
  },
  {
   "cell_type": "code",
   "execution_count": 38,
   "id": "30e7574d",
   "metadata": {},
   "outputs": [
    {
     "data": {
      "text/plain": [
       "0.3243342583167167"
      ]
     },
     "execution_count": 38,
     "metadata": {},
     "output_type": "execute_result"
    }
   ],
   "source": [
    "rmsle(y_val,ideal_model_y_preds)"
   ]
  },
  {
   "cell_type": "markdown",
   "id": "4ec393c6",
   "metadata": {},
   "source": [
    "# This also doesn't gave us best accuracy or score"
   ]
  },
  {
   "cell_type": "markdown",
   "id": "3a3abf81",
   "metadata": {},
   "source": [
    "# lets do more tuning"
   ]
  },
  {
   "cell_type": "code",
   "execution_count": 39,
   "id": "430cdefe",
   "metadata": {},
   "outputs": [
    {
     "name": "stdout",
     "output_type": "stream",
     "text": [
      "Fitting 5 folds for each of 100 candidates, totalling 500 fits\n",
      "Wall time: 32min 37s\n"
     ]
    },
    {
     "data": {
      "text/plain": [
       "RandomizedSearchCV(cv=5,\n",
       "                   estimator=RandomForestRegressor(n_jobs=-1, random_state=42),\n",
       "                   n_iter=100,\n",
       "                   param_distributions={'max_depth': [None, 3, 5, 10],\n",
       "                                        'max_features': [0.5, 1, 'sqrt',\n",
       "                                                         'auto'],\n",
       "                                        'max_samples': [10000],\n",
       "                                        'min_samples_leaf': array([ 1,  3,  5,  7,  9, 11, 13, 15, 17, 19]),\n",
       "                                        'min_samples_split': array([ 2,  4,  6,  8, 10, 12, 14, 16, 18]),\n",
       "                                        'n_estimators': array([10, 20, 30, 40, 50, 60, 70, 80, 90])},\n",
       "                   verbose=True)"
      ]
     },
     "execution_count": 39,
     "metadata": {},
     "output_type": "execute_result"
    }
   ],
   "source": [
    "%%time\n",
    "# Still the score isn't enough good so lets tune it on more samples\n",
    "\n",
    "\n",
    "ideal_model=RandomizedSearchCV(RandomForestRegressor(n_jobs=-1,random_state=42),\n",
    "                               param_distributions=rf_grid,\n",
    "                               cv=5,\n",
    "                               n_iter=100,\n",
    "                               verbose=True)\n",
    "\n",
    "ideal_model.fit(x_train,y_train)\n"
   ]
  },
  {
   "cell_type": "code",
   "execution_count": 41,
   "id": "520dcbc1",
   "metadata": {},
   "outputs": [
    {
     "data": {
      "text/plain": [
       "{'n_estimators': 60,\n",
       " 'min_samples_split': 4,\n",
       " 'min_samples_leaf': 1,\n",
       " 'max_samples': 10000,\n",
       " 'max_features': 0.5,\n",
       " 'max_depth': None}"
      ]
     },
     "execution_count": 41,
     "metadata": {},
     "output_type": "execute_result"
    }
   ],
   "source": [
    "ideal_model.best_params_"
   ]
  },
  {
   "cell_type": "code",
   "execution_count": 80,
   "id": "99540a08",
   "metadata": {},
   "outputs": [
    {
     "data": {
      "text/plain": [
       "0.8343419259826583"
      ]
     },
     "execution_count": 80,
     "metadata": {},
     "output_type": "execute_result"
    }
   ],
   "source": [
    "ideal_model.score(x_val,y_val)"
   ]
  },
  {
   "cell_type": "code",
   "execution_count": 81,
   "id": "2a30fb41",
   "metadata": {},
   "outputs": [],
   "source": [
    "ideal_model_2_y_preds=ideal_model.predict(x_val)"
   ]
  },
  {
   "cell_type": "code",
   "execution_count": 82,
   "id": "6571bdec",
   "metadata": {},
   "outputs": [
    {
     "data": {
      "text/plain": [
       "{'Train_MAE': 5813.220095879645,\n",
       " 'Val_MAE': 7243.041408882745,\n",
       " 'Train_RMSLE': 0.26763047607293045,\n",
       " 'Val_RMSLE': 0.3006116167199929,\n",
       " 'Train_r2_score': 0.8505472645491283,\n",
       " 'Val_r2_score': 0.8343419259826583}"
      ]
     },
     "execution_count": 82,
     "metadata": {},
     "output_type": "execute_result"
    }
   ],
   "source": [
    "score(ideal_model)"
   ]
  },
  {
   "cell_type": "markdown",
   "id": "051a6416",
   "metadata": {},
   "source": [
    "# So now we got RMSLE Value =3 which can be inreased further using more hyperparameters tuning"
   ]
  },
  {
   "cell_type": "code",
   "execution_count": 83,
   "id": "b8e5f3db",
   "metadata": {},
   "outputs": [],
   "source": [
    "def processed_data(df):\n",
    "    \n",
    "#     add te instances of date\n",
    "    df[\"saleyear\"]=df.saledate.dt.year\n",
    "    df[\"salemonth\"]=df.saledate.dt.month\n",
    "    df[\"saleday\"]=df.saledate.dt.day\n",
    "    df[\"saledayofweek\"]=df.saledate.dt.day_of_week\n",
    "    df[\"saledayofyear\"]=df.saledate.dt.day_of_year\n",
    "    \n",
    "    \n",
    "#     drop saledate column\n",
    "\n",
    "    df.drop(\"saledate\",axis=1,inplace=True)\n",
    "    \n",
    "# lets fill the numerical ones first\n",
    "\n",
    "    for label,content in df.items():\n",
    "        if pd.api.types.is_numeric_dtype(content):\n",
    "            if pd.isnull(content).sum():\n",
    "#             lets make a refernce as missing first\n",
    "                df[label + \"is_missing\"]=pd.isnull(content)\n",
    "#             lets fill the row with median\n",
    "                df[label]=content.fillna(content.median())\n",
    "    \n",
    "        elif not pd.api.types.is_numeric_dtype(content):\n",
    "#         lets make a refernce column\n",
    "            df[label + \"is_missing\"]=pd.isnull(content)\n",
    "#         lets fill the data\n",
    "            df[label]=pd.Categorical(content).codes+1\n",
    "            \n",
    "        \n",
    "    \n",
    "    "
   ]
  },
  {
   "cell_type": "code",
   "execution_count": 84,
   "id": "7935031d",
   "metadata": {},
   "outputs": [],
   "source": [
    "df_test=pd.read_csv('bluebook-for-bulldozers/Test.csv',parse_dates=[\"saledate\"])"
   ]
  },
  {
   "cell_type": "code",
   "execution_count": 85,
   "id": "a253ffe4",
   "metadata": {},
   "outputs": [],
   "source": [
    "processed_data(df_test)"
   ]
  },
  {
   "cell_type": "code",
   "execution_count": 86,
   "id": "ea09b253",
   "metadata": {},
   "outputs": [
    {
     "data": {
      "text/plain": [
       "SalesID                        0\n",
       "MachineID                      0\n",
       "ModelID                        0\n",
       "datasource                     0\n",
       "auctioneerID                   0\n",
       "                              ..\n",
       "Backhoe_Mountingis_missing     0\n",
       "Blade_Typeis_missing           0\n",
       "Travel_Controlsis_missing      0\n",
       "Differential_Typeis_missing    0\n",
       "Steering_Controlsis_missing    0\n",
       "Length: 101, dtype: int64"
      ]
     },
     "execution_count": 86,
     "metadata": {},
     "output_type": "execute_result"
    }
   ],
   "source": [
    "df_test.isna().sum()"
   ]
  },
  {
   "cell_type": "code",
   "execution_count": 87,
   "id": "4c168361",
   "metadata": {},
   "outputs": [
    {
     "name": "stdout",
     "output_type": "stream",
     "text": [
      "<class 'pandas.core.frame.DataFrame'>\n",
      "RangeIndex: 12457 entries, 0 to 12456\n",
      "Columns: 101 entries, SalesID to Steering_Controlsis_missing\n",
      "dtypes: bool(45), float64(1), int16(2), int64(11), int8(42)\n",
      "memory usage: 2.2 MB\n"
     ]
    }
   ],
   "source": [
    "df_test.info()"
   ]
  },
  {
   "cell_type": "code",
   "execution_count": 88,
   "id": "432ee9fa",
   "metadata": {},
   "outputs": [
    {
     "name": "stdout",
     "output_type": "stream",
     "text": [
      "<class 'pandas.core.frame.DataFrame'>\n",
      "Int64Index: 401125 entries, 0 to 401124\n",
      "Columns: 102 entries, SalesID to Steering_Controlsis_missing\n",
      "dtypes: bool(46), float64(2), int16(4), int64(10), int8(40)\n",
      "memory usage: 75.7 MB\n"
     ]
    }
   ],
   "source": [
    "x_train.info()"
   ]
  },
  {
   "cell_type": "markdown",
   "id": "447cb253",
   "metadata": {},
   "source": [
    "### we can see that in our X_train we have 102 columns but in x_test we have only 101 columns so lets find the missing one and make a column reference to the missing one"
   ]
  },
  {
   "cell_type": "code",
   "execution_count": 89,
   "id": "56c28d2c",
   "metadata": {},
   "outputs": [
    {
     "data": {
      "text/plain": [
       "{'SalePrice', 'auctioneerIDis_missing'}"
      ]
     },
     "execution_count": 89,
     "metadata": {},
     "output_type": "execute_result"
    }
   ],
   "source": [
    "set(df.columns) - set(df_test.columns)"
   ]
  },
  {
   "cell_type": "code",
   "execution_count": 90,
   "id": "4230870b",
   "metadata": {},
   "outputs": [],
   "source": [
    "df_test[\"auctioneerIDis_missing\"]=False"
   ]
  },
  {
   "cell_type": "code",
   "execution_count": 91,
   "id": "44f12935",
   "metadata": {},
   "outputs": [
    {
     "data": {
      "text/plain": [
       "{'SalePrice'}"
      ]
     },
     "execution_count": 91,
     "metadata": {},
     "output_type": "execute_result"
    }
   ],
   "source": [
    "set(df.columns) - set(df_test.columns)"
   ]
  },
  {
   "cell_type": "code",
   "execution_count": 92,
   "id": "c3e5644a",
   "metadata": {},
   "outputs": [
    {
     "name": "stderr",
     "output_type": "stream",
     "text": [
      "C:\\Users\\kuldeep.garg\\Documents\\My_learnings\\Machine_learning\\MLenv\\7 Bulldozer price Project\\bullenv\\lib\\site-packages\\sklearn\\base.py:484: FutureWarning: The feature names should match those that were passed during fit. Starting version 1.2, an error will be raised.\n",
      "Feature names must be in the same order as they were in fit.\n",
      "\n",
      "  warnings.warn(message, FutureWarning)\n"
     ]
    }
   ],
   "source": [
    "# lets predict the y_preds\n",
    "\n",
    "test_y_preds=ideal_model.predict(df_test)"
   ]
  },
  {
   "cell_type": "code",
   "execution_count": 93,
   "id": "c8dc613b",
   "metadata": {},
   "outputs": [],
   "source": [
    "df_final=pd.DataFrame({\"SalesID\":df_test[\"SalesID\"],\n",
    "                      \"SalePrice\":test_y_preds})"
   ]
  },
  {
   "cell_type": "code",
   "execution_count": 94,
   "id": "db000f60",
   "metadata": {},
   "outputs": [
    {
     "data": {
      "text/html": [
       "<div>\n",
       "<style scoped>\n",
       "    .dataframe tbody tr th:only-of-type {\n",
       "        vertical-align: middle;\n",
       "    }\n",
       "\n",
       "    .dataframe tbody tr th {\n",
       "        vertical-align: top;\n",
       "    }\n",
       "\n",
       "    .dataframe thead th {\n",
       "        text-align: right;\n",
       "    }\n",
       "</style>\n",
       "<table border=\"1\" class=\"dataframe\">\n",
       "  <thead>\n",
       "    <tr style=\"text-align: right;\">\n",
       "      <th></th>\n",
       "      <th>SalesID</th>\n",
       "      <th>SalePrice</th>\n",
       "    </tr>\n",
       "  </thead>\n",
       "  <tbody>\n",
       "    <tr>\n",
       "      <th>0</th>\n",
       "      <td>1227829</td>\n",
       "      <td>21923.958333</td>\n",
       "    </tr>\n",
       "    <tr>\n",
       "      <th>1</th>\n",
       "      <td>1227844</td>\n",
       "      <td>25173.958333</td>\n",
       "    </tr>\n",
       "    <tr>\n",
       "      <th>2</th>\n",
       "      <td>1227847</td>\n",
       "      <td>53721.527778</td>\n",
       "    </tr>\n",
       "    <tr>\n",
       "      <th>3</th>\n",
       "      <td>1227848</td>\n",
       "      <td>57783.333333</td>\n",
       "    </tr>\n",
       "    <tr>\n",
       "      <th>4</th>\n",
       "      <td>1227863</td>\n",
       "      <td>38486.111111</td>\n",
       "    </tr>\n",
       "    <tr>\n",
       "      <th>...</th>\n",
       "      <td>...</td>\n",
       "      <td>...</td>\n",
       "    </tr>\n",
       "    <tr>\n",
       "      <th>12452</th>\n",
       "      <td>6643171</td>\n",
       "      <td>39071.255556</td>\n",
       "    </tr>\n",
       "    <tr>\n",
       "      <th>12453</th>\n",
       "      <td>6643173</td>\n",
       "      <td>19666.111111</td>\n",
       "    </tr>\n",
       "    <tr>\n",
       "      <th>12454</th>\n",
       "      <td>6643184</td>\n",
       "      <td>19474.027778</td>\n",
       "    </tr>\n",
       "    <tr>\n",
       "      <th>12455</th>\n",
       "      <td>6643186</td>\n",
       "      <td>23285.555556</td>\n",
       "    </tr>\n",
       "    <tr>\n",
       "      <th>12456</th>\n",
       "      <td>6643196</td>\n",
       "      <td>29059.722222</td>\n",
       "    </tr>\n",
       "  </tbody>\n",
       "</table>\n",
       "<p>12457 rows × 2 columns</p>\n",
       "</div>"
      ],
      "text/plain": [
       "       SalesID     SalePrice\n",
       "0      1227829  21923.958333\n",
       "1      1227844  25173.958333\n",
       "2      1227847  53721.527778\n",
       "3      1227848  57783.333333\n",
       "4      1227863  38486.111111\n",
       "...        ...           ...\n",
       "12452  6643171  39071.255556\n",
       "12453  6643173  19666.111111\n",
       "12454  6643184  19474.027778\n",
       "12455  6643186  23285.555556\n",
       "12456  6643196  29059.722222\n",
       "\n",
       "[12457 rows x 2 columns]"
      ]
     },
     "execution_count": 94,
     "metadata": {},
     "output_type": "execute_result"
    }
   ],
   "source": [
    "df_final"
   ]
  },
  {
   "cell_type": "code",
   "execution_count": 95,
   "id": "9fbc7122",
   "metadata": {},
   "outputs": [],
   "source": [
    "df_final.to_csv(\"bluebook-for-bulldozers/df_test_final.csv\")"
   ]
  },
  {
   "cell_type": "markdown",
   "id": "3a93cb17",
   "metadata": {},
   "source": [
    "# Feature Importance"
   ]
  },
  {
   "cell_type": "code",
   "execution_count": 102,
   "id": "c4cd4a6e",
   "metadata": {},
   "outputs": [],
   "source": [
    "importances=ideal_model.best_estimator_.feature_importances_"
   ]
  },
  {
   "cell_type": "code",
   "execution_count": 103,
   "id": "52986d9d",
   "metadata": {},
   "outputs": [
    {
     "data": {
      "text/plain": [
       "array([3.34746757e-02, 3.25853983e-02, 4.64929729e-02, 2.53126811e-03,\n",
       "       6.77403856e-03, 1.86201043e-01, 4.61217398e-03, 1.99308497e-03,\n",
       "       3.66116362e-02, 2.77742685e-02, 6.10803715e-02, 4.40455476e-03,\n",
       "       1.72406939e-02, 1.39158840e-01, 4.68410806e-02, 1.17444210e-02,\n",
       "       1.65895614e-03, 3.14133386e-03, 2.28049249e-03, 6.93792073e-02,\n",
       "       7.24315191e-04, 1.34185700e-04, 1.40564736e-03, 9.93638868e-04,\n",
       "       3.13409435e-03, 3.35066356e-04, 2.71303271e-03, 1.38487936e-02,\n",
       "       2.06915353e-03, 2.31994458e-03, 4.19297367e-03, 3.72032953e-03,\n",
       "       5.97868840e-03, 1.77007683e-03, 1.15086949e-03, 7.37434415e-03,\n",
       "       1.74687312e-03, 1.25236314e-02, 4.88011920e-03, 5.08628140e-03,\n",
       "       1.61140818e-03, 1.59691853e-03, 4.03142429e-03, 1.02216914e-03,\n",
       "       9.97101020e-04, 7.79560346e-04, 1.95393575e-04, 2.78535694e-03,\n",
       "       1.10985887e-03, 5.14621902e-04, 2.74612602e-04, 5.66177719e-02,\n",
       "       6.72099678e-03, 1.30622177e-02, 6.66379306e-03, 1.50649554e-02,\n",
       "       6.52536048e-04, 1.99442908e-03, 7.30561275e-04, 0.00000000e+00,\n",
       "       0.00000000e+00, 2.55898655e-03, 1.34575432e-03, 5.51362646e-03,\n",
       "       2.60275770e-02, 0.00000000e+00, 0.00000000e+00, 0.00000000e+00,\n",
       "       0.00000000e+00, 6.38025950e-05, 1.52343713e-05, 2.51223197e-04,\n",
       "       1.60880745e-05, 2.73966464e-04, 3.03422779e-05, 2.49748688e-04,\n",
       "       9.92603692e-06, 1.56506818e-03, 2.71208579e-03, 5.81991671e-03,\n",
       "       2.42309174e-03, 1.50719404e-03, 1.47204025e-03, 5.67163743e-04,\n",
       "       2.57921007e-03, 1.41503997e-03, 2.52384512e-03, 2.27793184e-04,\n",
       "       6.79030450e-03, 2.59529361e-03, 1.09778685e-03, 1.10386776e-04,\n",
       "       1.17046546e-04, 1.33792128e-04, 2.22163084e-04, 7.83914646e-05,\n",
       "       1.62091713e-04, 2.60272551e-04, 1.88224668e-04, 2.43569660e-04,\n",
       "       1.00936491e-04, 2.22757388e-04])"
      ]
     },
     "execution_count": 103,
     "metadata": {},
     "output_type": "execute_result"
    }
   ],
   "source": [
    "importances"
   ]
  },
  {
   "cell_type": "code",
   "execution_count": 104,
   "id": "dd5f7cdd",
   "metadata": {},
   "outputs": [],
   "source": [
    "def plot_features(columns, importances, n=20):\n",
    "    df = (pd.DataFrame({\"features\": columns,\n",
    "                        \"feature_importances\": importances})\n",
    "          .sort_values(\"feature_importances\", ascending=False)\n",
    "          .reset_index(drop=True))\n",
    "    \n",
    "    # Plot the dataframe\n",
    "    fig, ax = plt.subplots()\n",
    "    ax.barh(df[\"features\"][:n], df[\"feature_importances\"][:20])\n",
    "    ax.set_ylabel(\"Features\")\n",
    "    ax.set_xlabel(\"Feature importance\")\n",
    "    ax.invert_yaxis()"
   ]
  },
  {
   "cell_type": "code",
   "execution_count": 106,
   "id": "835c3a76",
   "metadata": {},
   "outputs": [
    {
     "data": {
      "image/png": "[encoded data removed]",
      "text/plain": [
       "<Figure size 432x288 with 1 Axes>"
      ]
     },
     "metadata": {
      "needs_background": "light"
     },
     "output_type": "display_data"
    }
   ],
   "source": [
    "plot_features(x_train.columns,importances)"
   ]
  },
  {
   "cell_type": "code",
   "execution_count": null,
   "id": "2c65d185",
   "metadata": {},
   "outputs": [],
   "source": []
  }
 ],
 "metadata": {
  "kernelspec": {
   "display_name": "Python 3 (ipykernel)",
   "language": "python",
   "name": "python3"
  },
  "language_info": {
   "codemirror_mode": {
    "name": "ipython",
    "version": 3
   },
   "file_extension": ".py",
   "mimetype": "text/x-python",
   "name": "python",
   "nbconvert_exporter": "python",
   "pygments_lexer": "ipython3",
   "version": "3.9.6"
  }
 },
 "nbformat": 4,
 "nbformat_minor": 5
}
